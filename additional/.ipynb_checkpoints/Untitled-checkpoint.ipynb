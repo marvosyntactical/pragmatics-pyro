{
 "cells": [
  {
   "cell_type": "markdown",
   "id": "1b17c4af-5ea4-4e3a-b564-bf11288df249",
   "metadata": {},
   "source": [
    "# **An Information Theoretic Treatment of RSA**\n",
    "This notebook is entirely based on [Zavslavsky et al.(2020)](https://arxiv.org/pdf/2005.06641), in an attempt to understand the research work and explore its implications. I mark quotations from the above work either as in line _Quotations_ (**Z**) or separately like so:"
   ]
  },
  {
   "cell_type": "markdown",
   "id": "b0e11cec-b3a9-4ed3-a385-a39d1b290ad4",
   "metadata": {},
   "source": [
    "**Z. et al.**: _Quotation here._"
   ]
  },
  {
   "cell_type": "markdown",
   "id": "ac5daec0-fdfe-4ee4-be25-9c9a9b29311e",
   "metadata": {},
   "source": [
    "The general exposition in this notebook follows a different route than the paper, and also some formatting has been added to quotations for this reason."
   ]
  },
  {
   "cell_type": "markdown",
   "id": "599934e4-1eb0-4328-b603-c1d32f2d5cdb",
   "metadata": {},
   "source": []
  },
  {
   "cell_type": "markdown",
   "id": "73461e4b-4ed2-45d3-9633-160a88996950",
   "metadata": {},
   "source": []
  },
  {
   "cell_type": "markdown",
   "id": "2cfbc372-a2e4-4ee4-8ed7-316882284f52",
   "metadata": {},
   "source": []
  },
  {
   "cell_type": "code",
   "execution_count": null,
   "id": "87eb9e3e-b34b-4133-a7b6-ae56e6cd69f8",
   "metadata": {},
   "outputs": [],
   "source": []
  },
  {
   "cell_type": "markdown",
   "id": "04714f2f-0fd1-4b31-ad57-d316ce1c4167",
   "metadata": {},
   "source": [
    "## 1. Rate-Distortion Theory\n",
    "Posed by Shannon in 1948, Rate-Distortion Theory (RTD) "
   ]
  },
  {
   "cell_type": "markdown",
   "id": "1016bc72-da61-41d1-bb15-a96657bf6c36",
   "metadata": {},
   "source": [
    "## 2. From RSA to RD-RSA, motivated by RDT"
   ]
  },
  {
   "cell_type": "markdown",
   "id": "482823bc-2a2e-4cee-be83-f33cf8496af7",
   "metadata": {},
   "source": [
    "**Z. et al., Sec. 3**: _Returning to the general communication setup of RSA, the speaker can be seen as a probabilistic encoder and the listener as a probabilistic decoder. From an information-theoretic perspective, optimal encoder-decoder pairs in this setup are characterized by Rate-Distortion (RD) theory ([Shannon (1948)](https://ieeexplore.ieee.org/iel7/6731005/6773023/06773024.pdf?casa_token=DODaHbRXgD8AAAAA:uMfw3YtoyncruYfgRHOVWZIY6KGCG7LvAlyLpnhj2VOak3BAzr1R7oIORE2CXsqJjLVj5QwMtHWOjTo)) - the subfield of information-theory that concerns efficient source coding with respect tot a fitness function (or distortion) between a target message (speaker's meaning) and a reconstructed message (listener's  interpretation)._\n",
    "\n",
    "_In this view, the speaker and listener should jointly optimize the tradeoff between _\n",
    "\n",
    "_**maximing the expected utiulity and minizing the number of bits required for communication**._ \n",
    "\n",
    "_The latter is captured by minimizing the **mutual information** between speaker meanings and utterances_\n",
    "\n",
    "$$I_S(M;U)=H_S(U)-H_S(U|M),$$\n",
    "\n",
    "_where $H_S(U)$ is the **entropy** of the marginal distribution of speaker utterances $S(u) = \\sum_mP(m)S(u|m)$. In other words, from a RD perspective, the speaker and listener should jointly minimize the tradeoff_\n",
    "\n",
    "$$\\mathcal{F}_\\alpha[S,L]=I_S(M;U)-\\alpha\\mathbb{E}_S[V_L]$$\n",
    "\n",
    "_This type of RD tradeoff is closely related tot the RSA tradeoff._\n",
    "\n",
    "... TODO\n",
    "\n"
   ]
  },
  {
   "cell_type": "markdown",
   "id": "39c00b36-f459-4b94-8aad-cf44231746e3",
   "metadata": {},
   "source": []
  },
  {
   "cell_type": "markdown",
   "id": "be678b5b-225f-44e9-bcbf-0ee8b135f58e",
   "metadata": {},
   "source": [
    "## 3. Summary of RD-RSA\n",
    "The loss $\\mathcal{F}_\\alpha$ (to be minimized) from above can be rewritten like so:\n",
    "$$\\mathcal{F}_\\alpha[S,L]=H_S(U)-H_S(U|M)+\\alpha\\mathbb{E}_S[V_L]$$"
   ]
  },
  {
   "cell_type": "markdown",
   "id": "31462a6e-9696-4653-922a-b7224ab6245d",
   "metadata": {},
   "source": []
  },
  {
   "cell_type": "markdown",
   "id": "f89ab31e-a6db-46c8-95fa-b1c5a95165fa",
   "metadata": {},
   "source": []
  },
  {
   "cell_type": "markdown",
   "id": "d93d4559-40b9-4644-9f73-165281f5ce52",
   "metadata": {},
   "source": []
  }
 ],
 "metadata": {
  "kernelspec": {
   "display_name": "q",
   "language": "python",
   "name": "q"
  },
  "language_info": {
   "codemirror_mode": {
    "name": "ipython",
    "version": 3
   },
   "file_extension": ".py",
   "mimetype": "text/x-python",
   "name": "python",
   "nbconvert_exporter": "python",
   "pygments_lexer": "ipython3",
   "version": "3.8.10"
  }
 },
 "nbformat": 4,
 "nbformat_minor": 5
}
