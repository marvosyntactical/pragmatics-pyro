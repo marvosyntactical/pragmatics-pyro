{
 "cells": [
  {
   "cell_type": "markdown",
   "id": "48818315-bbe3-4508-b5e4-9eebebc3f226",
   "metadata": {},
   "source": [
    "The code is adapted from the Pyro example to fit the educational structure of the Problang chapter. I attempted to stay as close to the webbook as possible, but some minor alterations have been made. ~ Marv"
   ]
  },
  {
   "cell_type": "code",
   "execution_count": 1,
   "id": "61ee387e-0678-450a-ad78-91dcec2a8a23",
   "metadata": {},
   "outputs": [],
   "source": [
    "# first some imports\n",
    "import torch\n",
    "torch.set_default_dtype(torch.float64) # double precision for numerical stability\n",
    "\n",
    "import collections\n",
    "from collections import namedtuple\n",
    "\n",
    "import argparse\n",
    "import matplotlib.pyplot as plt\n",
    "\n",
    "import pyro\n",
    "import pyro.distributions as dist\n",
    "import pyro.poutine as poutine\n",
    "\n",
    "from pyro_rsa_book_utils.search_inference import Marginal, marginalize\n",
    "from pyro_rsa_book_utils import visualize"
   ]
  },
  {
   "cell_type": "markdown",
   "id": "c8b1e767-d7a2-4900-8f5d-b960070dc828",
   "metadata": {},
   "source": [
    "# Chapter 9: Social reasoning about social reasoning"
   ]
  },
  {
   "cell_type": "markdown",
   "id": "8b46e376-374e-4e4c-876d-3dfe653737a2",
   "metadata": {},
   "source": [
    "In this chapter, we will see:\n",
    "* How to extend the vanilla RSA model by editing the Utility function\n",
    "* How to formalize tradeoffs between different communicative goals\n",
    "* When to go beyond the 3-layer vanilla RSA "
   ]
  },
  {
   "cell_type": "markdown",
   "id": "f40c9a7b-ee14-4ad7-8469-70ee5934a642",
   "metadata": {},
   "source": [
    "When using language, speakers aim to get listeners to believe the things that they believe. But sometimes, we don’t want listeners to know exactly how we feel. Imagine your date bakes you a batch of **flax seed, sugar-free, gluten-free cookies** before your big presentation next week. (What a sweetheart.) You are grateful for them — something to take your mind off impending doom. But then you bite into them, and you wonder if they actually qualify as cookies and not just fragments of seed glued together. Your date asks you what you think. You look up and say __“They’re good.”__"
   ]
  },
  {
   "cell_type": "markdown",
   "id": "d9d73c11-9752-429a-afeb-aa467188feb2",
   "metadata": {},
   "source": [
    "Politeness violates a critical principle of cooperative communication: exchanging **information efficiently and accurately**. If information transfer were the only currency in communication, a cooperative speaker would find polite utterances undesirable because they are potentially misleading. But **polite language** use is critical to making sure your date doesn’t charge out of the room before you can qualify what you meant by the more truthful and informative __“These cookies are terrible.”__"
   ]
  },
  {
   "cell_type": "markdown",
   "id": "2400b23d-fa13-4546-8cc8-d4201b233f10",
   "metadata": {},
   "source": [
    "Brown and Levinson (1987) recast the notion of a cooperative speaker as one who has both an **epistemic goal** to correctly update the listener’s knowledge state as well as a **social goal** to minimize any potential damage to the hearer’s (and the speaker’s own) self-image, which they called face. [Yoon, Tessler, et al. (2016)](http://langcog.stanford.edu/papers_new/yoon-2016-cogsci.pdf) formalize a version of this idea in the RSA framework by introducing a new component to the speaker’s utility function: **social utility**."
   ]
  },
  {
   "cell_type": "markdown",
   "id": "4677bae9-b65f-4a25-8736-2ad571bd4633",
   "metadata": {},
   "source": [
    "## 1. A new speaker\n",
    "\n",
    "The usual speaker utility from RSA is a suprisal-based, epistemic utility:\n",
    "\n",
    "$$U^{S_1}_{epistemic}(u;s)=\\log P_{L_0}(s|u)$$"
   ]
  },
  {
   "cell_type": "markdown",
   "id": "69636002-8812-4ea4-9986-09fb0447ea7b",
   "metadata": {},
   "source": [
    "Social utility can be defined as the expected subjective utlity of the state the listener would infer given the utterance $u$:\n",
    "\n",
    "$$U^{S_1}_{social}(u;s) = \\mathbb{E}_{P_{L_0}(s'|u)}[V(s')] =\\sum_{s'}V(s')P_{L_0}(s'|u),$$\n",
    "\n",
    "where $V$ is a value function that maps states to subjective utility values - this captures the affective consequences for the listener of being in state $s$.\n",
    "\n",
    "Speaker utility is then a _mixture_ of these components:\n",
    "\n",
    "$$U^{S_1}(u;s;\\varphi)=\\varphi\\cdot U_{epistemic}(u;s)+(1-\\varphi)\\cdot U_{social}(u;s),$$\n",
    "\n",
    "where $\\varphi\\in [0,1]$ is a model parameter determined by experiment (see below)."
   ]
  },
  {
   "cell_type": "markdown",
   "id": "22f0eb02-2f02-4aca-b624-a981792e9aa1",
   "metadata": {},
   "source": [
    "Note that at this point, we do not differentiate subjective state value **to the listener** from subjective state value **to the speaker**, though in many situations these could in principle be different. Also at this point, we do not allow for _deception_ or _meanness_, which would be the exact opposite of epistemic and social utilities, respectively - though this could very naturally be incorporated: [Yoon et al. (2016)](http://langcog.stanford.edu/papers_new/yoon-2016-cogsci.pdf), model **meanness** by having independent weights on the two utilities.\n",
    "\n",
    "In _Pyro_, this could look like the following:"
   ]
  },
  {
   "cell_type": "code",
   "execution_count": 2,
   "id": "30e6715e-edc6-4b9c-a121-6083e635ece8",
   "metadata": {},
   "outputs": [],
   "source": [
    "# these could be given like in the introduction\n",
    "state = ... # s\n",
    "l0_dist = ... # p(s|u)\n",
    "\n",
    "value_function = ... # V()\n",
    "expectation = lambda distr, func: \\\n",
    "    torch.sum(torch.cat([distr.log_prob(x).exp() * func(x) for x in distr.enumerate_support()]))\n",
    "\n",
    "Utility = namedtuple(\"Utility\", (\"epistemic\",\"social\"))\n",
    "\n",
    "# util = Utility(\n",
    "#    l0_dist.log_prob(state),\n",
    "#    expectation(literal_listener_dist, value_function)\n",
    "# )\n",
    "\n",
    "phi = 0.8\n",
    "# speaker_utility = phi * util.epistemic + (1-phi) * util.social"
   ]
  },
  {
   "cell_type": "markdown",
   "id": "e5b0a26b-f8da-4d87-90dc-d759cac1ffc7",
   "metadata": {},
   "source": [
    "```expectation``` computes the expected value (or _mean_) of the distribution supplied to it as the first argument. The second argument is a _projection function_, for when you want the expectation computed with respect to some transformation of the distribution's support:\n",
    "\n",
    "$$\\mathbb{E}_{dist}[func]:=\\sum_ifunc(x_i)\\mathbb{P}_{dist}(x_i),$$\n",
    "for finite support $x_1,\\ldots,x_n$. Think of it as a weighted average.\n",
    "\n",
    "Here, ```value_function``` should project the listener's distribution from world states onto subjective valuations of those world states (e.g., the subjective value of a listener believing the cookies they baked were rated 4.5 out of possible 5 stars)."
   ]
  },
  {
   "cell_type": "markdown",
   "id": "39eb7d46-f7e8-4b14-a873-7ed75146d5ff",
   "metadata": {},
   "source": [
    "## An Example"
   ]
  },
  {
   "cell_type": "markdown",
   "id": "6800e0f5-1bde-481e-be4d-5be19ff25f2c",
   "metadata": {},
   "source": [
    "We consider a simplified case study of the example given at the beginning, shown in Figure 1 below. The listener has completed some task or produced some product (e.g., basked a cake) and solicits the speaker's feedback, Performance on the task maps to a scale raning from 1 to 5 hearts (shown below; cf. online product reviews). These are the states of the world that the speaker can be informative with respect to.  Below, the speaker thinks the cake deserves 3 out of 5 hearts."
   ]
  },
  {
   "cell_type": "markdown",
   "id": "5144d47a-5dc6-478b-ae27-23e5e4ae8053",
   "metadata": {},
   "source": [
    "<center> <img src='../../img/yoon-hearts.jpeg' width=\"400\" height=\"400\" align=\"middle\"> </center>"
   ]
  },
  {
   "cell_type": "markdown",
   "id": "cdbee567-0063-4c0d-ada2-c02cdb12eccc",
   "metadata": {},
   "source": [
    "__Fig. 1__: Politeness case study"
   ]
  },
  {
   "cell_type": "markdown",
   "id": "db5221f1-a2b7-4f30-89a4-8821735f4d90",
   "metadata": {},
   "source": [
    "At the same time, these states of the world also have some inherent subjective value: 5 hearts is better than 3 hearts. $\\varphi$ governs how much the speaker seeks to communicate information about the state vs. make the listener believe she is in a highly valued state."
   ]
  },
  {
   "cell_type": "markdown",
   "id": "43594aee-cc5d-4015-9868-a7d2ecb17a8e",
   "metadata": {},
   "source": [
    "We start once again with a literal listener whose task is to interpret **value judgments** (e.g. \"terrible\", \"okay\", \"amazing\") according to their literal semantics. The literal listener model assumed here is the exact same as in the vanilla RSA model of __Chapter 1__:\n",
    "\n",
    "$$P_{L_0}(s|u)\\propto[[u]](s)\\cdot P(s)$$"
   ]
  },
  {
   "cell_type": "code",
   "execution_count": 3,
   "id": "d084594e-61e7-4241-90c4-c2329dd3b828",
   "metadata": {},
   "outputs": [],
   "source": [
    "# speaker's possible secret true judgements\n",
    "states = [1, 2, 3, 4, 5]\n",
    "\n",
    "# uniform distribution over speaker states\n",
    "def state_prior():\n",
    "    prior_dist = dist.Categorical(probs=torch.ones(len(states))/len(states))\n",
    "    idx = pyro.sample(\"state\", prior_dist)\n",
    "    return states[idx]\n",
    "\n",
    "# what we let the speaker choose from\n",
    "utterances = [\n",
    "    \"terrible\",\n",
    "    \"bad\",\n",
    "    \"okay\",\n",
    "    \"good\",\n",
    "    \"amazing\"\n",
    "]\n",
    "\n",
    "# correspondence of utterances to states\n",
    "# (empirically measured)\n",
    "literal_semantics = {\n",
    "    \"terrible\":[.95,.85,.02,.02,.02],\n",
    "    \"bad\":[.85,.95,.02,.02,.02],\n",
    "    \"okay\":[0.02,0.25,0.95,.65,.35],\n",
    "    \"good\":[.02,.05,.55,.95,.93],\n",
    "    \"amazing\":[.02,.02,.02,.65,0.95]\n",
    "}\n",
    "\n",
    "# helper function\n",
    "# to determine whether the utterance describes the state\n",
    "# by flipping a coin with \n",
    "# the literal_semantics[utterance][state] weight\n",
    "def meaning(utterance, state): \n",
    "    # meaning(u, s) := [[u]](s) in the notation above \n",
    "    weight = literal_semantics[utterance][state-1]\n",
    "    bernoulli = dist.Bernoulli(probs=weight)\n",
    "    m = pyro.sample(\"meaning\", bernoulli)\n",
    "    return m\n",
    "\n",
    "# literal listener\n",
    "@Marginal\n",
    "def literal_listener(utterance):\n",
    "    state = state_prior()\n",
    "    # values below are log probs\n",
    "    pyro.factor(\"literal_meaning\", 0. if meaning(utterance, state) else -999999.)\n",
    "    return state"
   ]
  },
  {
   "cell_type": "code",
   "execution_count": 4,
   "id": "a0ec0141-ce5a-42ab-a8b2-26addad7c663",
   "metadata": {},
   "outputs": [
    {
     "data": {
      "image/png": "[encoded data removed]",
      "text/plain": [
       "<Figure size 640x480 with 1 Axes>"
      ]
     },
     "metadata": {},
     "output_type": "display_data"
    }
   ],
   "source": [
    "utterance = \"okay\"\n",
    "l0_dist = literal_listener(utterance)\n",
    "visualize(l0_dist)"
   ]
  },
  {
   "cell_type": "markdown",
   "id": "545ad795-b8ed-40a5-a37a-b5e13e8efa33",
   "metadata": {},
   "source": [
    "## Exercises 1 a)\n",
    "1. Why do the lists in ```literal_semantics``` not sum to one? Can a given list be interpreted as either of $P(s|\\cdot)$, $P(\\cdot|u)$, $P(\\cdot|s)$ or $P(u|\\cdot)$? Which one? Is this a probability distribution?\n",
    "2. Test the predictions of ```literal_listener``` for the various utterances."
   ]
  },
  {
   "cell_type": "markdown",
   "id": "56c66dea-92bd-4749-aa84-52b23ff28cca",
   "metadata": {},
   "source": [
    "Next, we add in the speaker, who reasons about the literal llistener with respect to an epistemic and a social goal. The speaker model assumed here is exactly like in the vanilla RSA model o,f Chapter 1, except that we use the utility function introduced above:\n",
    "\n",
    "$$P_{S_1}(u|s;\\varphi)\\propto\\exp(\\alpha\\cdot U(s;u;\\varphi))$$"
   ]
  },
  {
   "cell_type": "code",
   "execution_count": 5,
   "id": "8ea5ebc5-ee4a-49b5-aadc-82386b63b9e1",
   "metadata": {},
   "outputs": [],
   "source": [
    "# value function scales social utility by a parameter lambda\n",
    "lambda_ = 1.25 # MAP estimate from Yoon, Tessler, et al. (2016)\n",
    "value_function = lambda state: lambda_ * state\n",
    "\n",
    "# alpha = 10 # MAP estimate from Yoon, Tessler, et al. (2016)\n",
    "alpha = 1\n",
    "\n",
    "def utterance_prior():\n",
    "    prior_dist = dist.Categorical( probs = torch.ones(len(utterances)) / len(utterances) )\n",
    "    idx = pyro.sample(\"utterance\", prior_dist)\n",
    "    return utterances[idx]\n",
    "\n",
    "@Marginal\n",
    "def speaker1(state, phi=1):\n",
    "    utterance = utterance_prior()\n",
    "    l0_posterior = literal_listener(utterance)\n",
    "    \n",
    "    Util = Utility(\n",
    "        l0_posterior.log_prob(state),\n",
    "        expectation(l0_posterior, value_function)\n",
    "    )\n",
    "    s1_utility = phi * Util.epistemic + (1-phi) * Util.social\n",
    "    \n",
    "    pyro.factor(\"s1_util\", alpha * s1_utility)\n",
    "    return utterance"
   ]
  },
  {
   "cell_type": "code",
   "execution_count": 6,
   "id": "df447255-7bfd-4706-84a1-5c76dd02beb4",
   "metadata": {},
   "outputs": [
    {
     "data": {
      "image/png": "[encoded data removed]",
      "text/plain": [
       "<Figure size 640x480 with 1 Axes>"
      ]
     },
     "metadata": {},
     "output_type": "display_data"
    }
   ],
   "source": [
    "s1_dist = speaker1(1, 0.8)\n",
    "visualize(s1_dist)"
   ]
  },
  {
   "cell_type": "markdown",
   "id": "620ded92-8e8d-475c-9643-e16648af4568",
   "metadata": {},
   "source": [
    "## Exercises 1 b)\n",
    "1. Describe the kind of speaker assumed by the above function call (```speaker(1, 0.8)```).\n",
    "2. Change the call to the speaker to make it so that it only cares about making the listener feel good.\n",
    "3. Change the call to the speaker to make it so that it cares about both making the listener feel good and conveying information.\n",
    "4. Change the value of ```lambda_``` and examine the results.\n",
    "5. Change the value of ```alpha``` and interpret the parameter."
   ]
  },
  {
   "cell_type": "markdown",
   "id": "57139a32-4c0d-479f-bf06-9167df60ead2",
   "metadata": {},
   "source": [
    "## 2. A listener who understands politeness\n",
    "If different speakers can have different weights on the mixture parameter ```phi```, which governs the trade-off between kindness and informativity, listeners may have uncertainty about **what kind of speaker** they are interacting with (Another motivation is to interpret the kindness vs. informativity behind a single utterance, for a known speaker.). This can be captured by endowing the ```pragmatic_listener``` from __Chapter 1__ with a prior distribution over ```phi```, corresponding to uncertainty about the parameter of the speaker's utility function. The resulting pragmatic listener is a **joint-inference model**, that infers world state and ```phi```-parameter at the same time:\n",
    "\n",
    "$$P_{L_1}(s,\\varphi|u)\\propto P(s)\\cdot P(\\varphi)\\cdot P_{S_1}(u|s,\\varphi)$$"
   ]
  },
  {
   "cell_type": "code",
   "execution_count": 23,
   "id": "1b587f84-a343-427a-8618-a54d541a17ac",
   "metadata": {},
   "outputs": [],
   "source": [
    "def phi_prior():\n",
    "    # possible phis:\n",
    "    phis = torch.arange(start=0.00, end=1.0, step=0.05)\n",
    "    uniform = dist.Categorical(torch.ones(len(phis)) / len(phis))\n",
    "    idx = pyro.sample(\"phi\", uniform)\n",
    "    return phis[idx]\n",
    "    \n",
    "@Marginal\n",
    "def pragmatic_listener(utterance):\n",
    "    \n",
    "    # your code here\n",
    "    state = state_prior()\n",
    "    phi = phi_prior()\n",
    "    s1_dist = speaker1(state, phi)\n",
    "    \n",
    "    s1_utterance = pyro.sample(\"l1_sim_of_s1\", s1_dist)\n",
    "    \n",
    "    pyro.factor(\"l1\", 0. if s1_utterance == utterance else -99999.)\n",
    "    \n",
    "    return state, phi"
   ]
  },
  {
   "cell_type": "code",
   "execution_count": 24,
   "id": "d1b29e8c-58ee-416c-913e-40544c1328f5",
   "metadata": {},
   "outputs": [
    {
     "data": {
      "image/png": "[encoded data removed]",
      "text/plain": [
       "<Figure size 640x480 with 2 Axes>"
      ]
     },
     "metadata": {},
     "output_type": "display_data"
    }
   ],
   "source": [
    "l1_dist = pragmatic_listener(\"good\")\n",
    "visualize(l1_dist, x_name=\"state\", y_name=\"phi\")"
   ]
  },
  {
   "cell_type": "markdown",
   "id": "54d79ea7-09de-4d5c-9ed0-28b52bd1b236",
   "metadata": {},
   "source": [
    "Above, we have a listener who hears that they did \"good\" and infers how well they actually did, as well as how much the speaker values honesty vs. kindness."
   ]
  },
  {
   "cell_type": "markdown",
   "id": "a61bfde4-1006-43b8-8712-a66561eb9494",
   "metadata": {},
   "source": [
    "### Exercises 2\n",
    "0. Implement the pragmatic listener.\n",
    "1. Examine the marginal posterions on ```state```. Does this make sense? Compare it to what the ```literal_listener``` would believe upon hearing the same utterance.\n",
    "2. Examine the marginal posterior on ```phi```. Does this make sense? What different utterance would make the ```pragmatic_listener``` infer something different about ```phi```? Test your prediction by running that utterance through the ```pragmatic_listener```.\n",
    "3. The authors also ran an experiment testing participants' intuitions if they knew what state of the world they were in. Modify ```pragmatic_listener```so that they know what state of the world they are in. Come up with your own interesting situations (i.e., choose a state and an utterance) and show the model predictions. Are the predicctions in accord with your intuitions? Why or why not?\n",
    "4. Modify ```pragmatic_listener``` so that they **know** the speaker __either__:\n",
    "* wants the listener to feel good __or__\n",
    "* wants to convey information to the listener __or__\n",
    "* both. Test all 3 models on the utterance \"good\"."
   ]
  },
  {
   "cell_type": "markdown",
   "id": "9fb2c719-cb68-4256-ae88-af3e708b99e3",
   "metadata": {},
   "source": [
    "## 3. Politeness with indirect speech acts"
   ]
  },
  {
   "cell_type": "markdown",
   "id": "71cc7aa4-9af9-454a-a641-e99978a89ee7",
   "metadata": {},
   "source": [
    "Above, we modeled the case study of **white lies**, utterances which convey misleading information for purposes of politeness. There are other ways to be polite, however. Speakers may deliberately be **indirect** for considerations of **politeness**. Consider a listener who just gave an objectively terrible presentation. They look fragile as they come to you for your feedback. You tell them \"_It wasn't bad._\"."
   ]
  },
  {
   "cell_type": "markdown",
   "id": "5e24e1d2-fc5c-4817-9aa3-f7c0a607c830",
   "metadata": {},
   "source": [
    "Why would somebody produce such an indirect speech act? If the speaker wanted to actually be nice, they would say \"_It was fine._\" or \"_It was great_.\". If the speaker wanted to actually convey information, they would say \"_It was terrible._\". \n",
    "\n",
    "[Yoon et al. (2017)](https://cogsci.mindmodeling.org/2017/papers/0679/paper0679.pdf) and [Yoon, Tessler et al. (2018)](https://psyarxiv.com/67ne8) hypothesize that speakers produce indirect speech acts in order to _appear_ to care both about conveying information and saving the listener's face."
   ]
  },
  {
   "cell_type": "markdown",
   "id": "5c4efed3-6360-4d55-b047-64ade482c339",
   "metadata": {},
   "source": [
    "Can we elaborate the model above to account for politeness by being indirect?  \n",
    "\n",
    "First, we can define the speaker's utility, defined now with respect to the pragmatic listener $L_1$:\n",
    "\n",
    "\\begin{align}\n",
    "    U^{S_2}_{epistemic}(u;s) &= \\log P_{L_1}(s|u) \\\\\n",
    "    U^{S_2}_{social}(u) &= \\mathbb{E}_{P_{L_1}(s^\\prime|u)}[V(s^\\prime)]=\\sum_{s^\\prime}V(s^\\prime)\\cdot P_{L_1}(s^\\prime|u) \\\\\n",
    "    P_{L_1}(s|u) &= \\int_\\varphi P_{L_1}(s,\\varphi|u) d\\varphi\n",
    "\\end{align}"
   ]
  },
  {
   "cell_type": "markdown",
   "id": "4d108b24-c971-4bd9-bf95-4f22f4f69012",
   "metadata": {},
   "source": [
    "Here, $V$ is again the **value function** from before that maps states to subjective utility values. With our higher-order speaker, however we have a new utility component: a **self-presentational utility** - defined with respect to the pragmatic listener's inferences about the politeness mixture component $\\varphi$:\n",
    "\n",
    "$$U^{S_2}_{presentational}(u)=\\log P_{L_1}(\\varphi|u)=\\log \\int_sP_{L_1}(s,\\varphi|u)ds$$"
   ]
  },
  {
   "cell_type": "markdown",
   "id": "17bbf21f-1d24-47b0-9a13-7626a47fcaf5",
   "metadata": {},
   "source": [
    "Speaker utility is the a mixture of these three components, weighted by mixture component vector $\\omega$:\n",
    "\n",
    "$$U^{S_2}(u;s;\\varphi;\\omega)=\\omega_{epistemic}\\cdot U^{S_2}_{epistemic}(u;s)+\\omega_{social}(u)\\cdot U^{S_2}_{social}(u)+\\omega_{presentational}(u)\\cdot U^{S_2}_{presentational}(u)$$\n",
    "\n",
    "and the new speaker model is again simply a softmax utility speaker:\n",
    "\n",
    "$$P_{S_2}(u|s,\\varphi)\\propto\\exp(\\alpha\\cdot U^{S_2}(u;s;\\varphi;\\omega))$$\n",
    "\n",
    "The code below defines such a speaker:"
   ]
  },
  {
   "cell_type": "code",
   "execution_count": 25,
   "id": "dff61654-7702-4836-8b64-92812af57f2d",
   "metadata": {},
   "outputs": [],
   "source": [
    "alpha2 = 1\n",
    "\n",
    "@Marginal\n",
    "def speaker2(state, phi, omega):\n",
    "    # your code here\n",
    "    utterance = utterance_prior()\n",
    "    l1_dist = pragmatic_listener(utterance)\n",
    "    \n",
    "    # ---- marginal posterior distributions ----\n",
    "    \n",
    "    # speaker's simulation of l1's marginal state posterior\n",
    "    # (\"what state would l1 probably infer from this utterance?\")\n",
    "    l1_state = marginalize(l1_dist, 0)\n",
    "    \n",
    "    # speaker's simulation of l1's marginal goal posterior\n",
    "    # (\"what goal would l1 probably infer from this utterance?\")\n",
    "    l1_goal = marginalize(l1_dist, 1)\n",
    "    \n",
    "    util_epistemic = l1_state.log_prob(state)\n",
    "    util_presentational = l1_goal.log_prob(phi)\n",
    "    util_social = expectation(l1_state, value_function)\n",
    "    \n",
    "    s2_utility = omega.epistemic * util_epistemic + \\\n",
    "            omega.social * util_social + \\\n",
    "        omega.presentational * util_presentational\n",
    "    \n",
    "    pyro.factor(\"s2\", alpha2 * s2_utility)\n",
    "    \n",
    "    # your code here\n",
    "\n",
    "    return utterance"
   ]
  },
  {
   "cell_type": "code",
   "execution_count": 37,
   "id": "5f18a1fe-474d-4a70-8753-89c68a9a189a",
   "metadata": {},
   "outputs": [
    {
     "data": {
      "image/png": "[encoded data removed]",
      "text/plain": [
       "<Figure size 640x480 with 1 Axes>"
      ]
     },
     "metadata": {},
     "output_type": "display_data"
    }
   ],
   "source": [
    "Omega = namedtuple(\"Omega\", (\"epistemic\", \"social\", \"presentational\"))\n",
    "s2_dist = speaker2(1, 0.0, Omega(0.8, 0.1, 0.1))\n",
    "visualize(s2_dist)"
   ]
  },
  {
   "cell_type": "markdown",
   "id": "b8df303a-8fec-450d-823a-594fca964ee2",
   "metadata": {},
   "source": [
    "### Exercises 3\n",
    "1. Implement `speaker2` based on the description given above.\n",
    "2. Try out different combinations for $\\omega$."
   ]
  },
  {
   "cell_type": "markdown",
   "id": "44f2fd49-228a-487f-ab22-36035794c67c",
   "metadata": {},
   "source": [
    "## Gricean Maximes"
   ]
  },
  {
   "cell_type": "markdown",
   "id": "29a29010-00d9-4cd8-80f3-4f32a8977c27",
   "metadata": {},
   "source": [
    "Pragmatics concerns how **assumptions about cooperation**, **context** and **shared knowledge** can be used in conversation to enrich utterances beyond their literal semantics, and how this ultimately leads to more efficient communication.  "
   ]
  },
  {
   "cell_type": "markdown",
   "id": "c927c80f-b8ae-4234-b5f4-3c2f6dd3a6ad",
   "metadata": {},
   "source": [
    "The most well-known set of assumptions are the **Gricean Maxims** (Grice, 1975):\n",
    "\n",
    "1. Maxim of **Quality**: Be truthful.\n",
    "2. Maxim of **Quantity**: Be as informative as required, but not more.\n",
    "3. Maxim of **Relation**: Be relevant.\n",
    "4. Maxim of **Manner**: Be clear, unambiguous and brief."
   ]
  },
  {
   "cell_type": "markdown",
   "id": "09a7cdf2-6647-410d-bd59-d74e74a1b168",
   "metadata": {},
   "source": [
    "Grice argued that:\n",
    "1. Listeners expect Speakers to adhere to these Maxims.\n",
    "2. Speakers can __exploit__ these assumptions by violating them to convey additional information."
   ]
  },
  {
   "cell_type": "markdown",
   "id": "a62ad4a9-0875-44bc-9de4-f9f87898c0d5",
   "metadata": {},
   "source": [
    "### Exercises 4\n",
    "1. Which Maxims were exploited by $S_2$?\n",
    "2. Which Maxims were exploited by $S_1$ in the reference game notebook? \n",
    "3. How can adherence to each of the Maxims be treated in RSA? \n",
    "4. Discuss which Maxims might be exploited in typical cases of: \n",
    "---\n",
    "1. __Irony__\n",
    "2. __Metaphor__\n",
    "3. __Hyperbole__\n",
    "4. __Politeness__\n",
    "5. __Humor__"
   ]
  }
 ],
 "metadata": {
  "kernelspec": {
   "display_name": "prag",
   "language": "python",
   "name": "prag"
  },
  "language_info": {
   "codemirror_mode": {
    "name": "ipython",
    "version": 3
   },
   "file_extension": ".py",
   "mimetype": "text/x-python",
   "name": "python",
   "nbconvert_exporter": "python",
   "pygments_lexer": "ipython3",
   "version": "3.10.4"
  }
 },
 "nbformat": 4,
 "nbformat_minor": 5
}
