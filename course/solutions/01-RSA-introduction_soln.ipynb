{
 "cells": [
  {
   "cell_type": "markdown",
   "metadata": {},
   "source": [
    "(This notebook was assembled in parts from an official [Pyro example](http://pyro.ai/examples/RSA-implicature.html) and [Chapter 1](http://www.problang.org/chapters/01-introduction.html) of the [Problang webbook](www.problang.org). \n",
    "The code is adapted from the Pyro example to fit the educational structure of the Problang chapter. I attempted to stay as close to the webbook as possible, but some minor alterations have been made, that hopefully stay true to the spirit of the Problang book. ~ Marv\n",
    "---"
   ]
  },
  {
   "cell_type": "markdown",
   "metadata": {},
   "source": [
    "<center> <b><i> \"Es ist nicht so wie du denkst, wenn du denkst, was ich denke, was du denkst. Denn das Denken der Gedanken ist ein denkenloses Denken darum denke nicht gedacht zu haben.\"</i> - H. Granger </b> </center>"
   ]
  },
  {
   "cell_type": "markdown",
   "metadata": {},
   "source": [
    "# Chapter 1: Language understanding as Bayesian inference\n",
    "\n",
    "Much work in formal, compositional semantics follows the tradition of positing **systematic but inflexible** theories of meaning. However, in practice, the meaning we derive from language is heavily dependent on nearly all aspects of **context, both linguistic and situational**. To formally explain these nuanced aspects of meaning and better understand the **compositional mechanism** that delivers them, recent work in formal pragmatics recognizes **semantics** not as one of the final steps in meaning calculation, but rather as one of the first. \n",
    "\n",
    "Within the Bayesian **Rational Speech Act** framework ([Frank and Goodman, 2012](https://science.sciencemag.org/content/336/6084/998), **RSA**), **speakers** and **listeners** reason about each other’s reasoning about the literal interpretation of **utterances**. The resulting interpretation necessarily depends on the literal interpretation of an utterance, but is not necessarily wholly determined by it. This move — reasoning about likely interpretations — provides ready explanations for complex phenomena ranging from **metaphor** ([Kao et al., 2014](https://scholar.google.com/scholar?q=%22Formalizing%20the%20pragmatics%20of%20metaphor%20understanding%22)) and **hyperbole** ([Kao et al., 2014](http://www.pnas.org/content/111/33/12002)) to **irony** and **humor**.\n",
    "\n",
    "More recent research has also consisted in practical applications of RSA, such as a challenge-winning RSA-based **Vision-and-Language Navigation** agent ([Anderson et al. (2017)](https://arxiv.org/abs/1711.07280)) and an efficient **Multi-Agent RL** framework (with a Benchmark on StarCraft II) ([Kang et al. (2020)](https://arxiv.org/abs/2006.04109))."
   ]
  },
  {
   "cell_type": "code",
   "execution_count": 1,
   "metadata": {},
   "outputs": [],
   "source": [
    "# first some imports\n",
    "import torch # pyro is a thin wrapper library around torch\n",
    "torch.set_default_dtype(torch.float64)  # double precision for numerical stability\n",
    "\n",
    "from collections import namedtuple\n",
    "\n",
    "import argparse\n",
    "import matplotlib.pyplot as plt\n",
    "\n",
    "import pyro\n",
    "import pyro.distributions as dist\n",
    "import pyro.poutine as poutine\n",
    "\n",
    "from pyro_rsa_book_utils.search_inference import Marginal\n",
    "from pyro_rsa_book_utils import visualize\n",
    "\n",
    "import warnings\n",
    "warnings.filterwarnings(\"ignore\")"
   ]
  },
  {
   "cell_type": "markdown",
   "metadata": {},
   "source": [
    "## Probabilistic Programming with Pyro\n",
    "**Probabilistic Programming Languages (PPLs)** allow for a mix of ordinary **deterministic** computation and **randomly** sampled values representing a generative process for data.\n",
    "\n",
    "Probabilistic programs in Pyro are built up around samples from primitive probability distributions, marked by ```pyro.sample``` or ```pyro.factor```:"
   ]
  },
  {
   "cell_type": "code",
   "execution_count": 2,
   "metadata": {},
   "outputs": [
    {
     "data": {
      "text/plain": [
       "10"
      ]
     },
     "execution_count": 2,
     "metadata": {},
     "output_type": "execute_result"
    }
   ],
   "source": [
    "def pyro_program():\n",
    "    # introduce randomness through pyro.sample:\n",
    "    unfair_coin = pyro.sample(\"example\", dist.Categorical(probs=torch.Tensor([0.1, 0.9]))).item() \n",
    "    # pyro functions may include arbitrary control flow:\n",
    "    if unfair_coin == 1:\n",
    "        return 10\n",
    "    else:\n",
    "        return 5\n",
    "    \n",
    "pyro_program()"
   ]
  },
  {
   "cell_type": "markdown",
   "metadata": {},
   "source": [
    "We see on multiple executions that ```pyro_program()``` is indeed random."
   ]
  },
  {
   "cell_type": "markdown",
   "metadata": {},
   "source": [
    "How is this better than using libraries such as ```random```, you ask?  \n",
    "Well, ```Pyro``` contains many tools to infer distributions of ```pyro.sample``` statements and of return values based on function arguments and the internal control flow. \n",
    "Let's decorate the above function with `@Marginal`, which will automatically construct a distribution over the return values **without knowing about the code inside the function**."
   ]
  },
  {
   "cell_type": "code",
   "execution_count": 3,
   "metadata": {},
   "outputs": [],
   "source": [
    "@Marginal # <- runs an exhaustive search over all sample/factor/.. calls to get an accurate distribution over return values\n",
    "def pyro_program_decorated():\n",
    "    # control flow may include Pyro's \"sample\" or \"factor\" statements\n",
    "    unfair_coin = pyro.sample(\"example\", dist.Categorical(probs=torch.Tensor([0.1, 0.9]))) \n",
    "    if unfair_coin == 1:\n",
    "        return 10\n",
    "    else:\n",
    "        return 5"
   ]
  },
  {
   "cell_type": "code",
   "execution_count": 4,
   "metadata": {},
   "outputs": [
    {
     "data": {
      "image/png": "[encoded data removed]",
      "text/plain": [
       "<Figure size 640x480 with 1 Axes>"
      ]
     },
     "metadata": {},
     "output_type": "display_data"
    }
   ],
   "source": [
    "distribution = pyro_program_decorated()\n",
    "visualize(distribution)"
   ]
  },
  {
   "cell_type": "markdown",
   "metadata": {},
   "source": [
    "Calls to ```func``` will yield a ```pyro.distributions.distribution``` whose support is all return values encountered during an exhaustive **Search** over all possible executions, whose respective probabilities are saved.\n",
    "\n",
    "For your solutions and/or better understanding, feel free to consult everything in ```pyro_rsa_book_utils```, or comment out the below lines:"
   ]
  },
  {
   "cell_type": "code",
   "execution_count": 5,
   "metadata": {},
   "outputs": [],
   "source": [
    "# print(dir(distribution))\n",
    "# print(help(distribution))\n",
    "# distribution.log_prob?"
   ]
  },
  {
   "cell_type": "markdown",
   "metadata": {},
   "source": [
    "Some useful pointers in the awesome explanatory [Pyro example notebooks](http://pyro.ai/examples/) are the intros to [Pyro models](http://pyro.ai/examples/intro_part_i.html), [Pyro Inference](http://pyro.ai/examples/intro_part_ii.html), and the [RSA examples](http://pyro.ai/examples/RSA-implicature.html).\n",
    "\n",
    "---"
   ]
  },
  {
   "cell_type": "markdown",
   "metadata": {},
   "source": [
    "## Introducing the Rational Speech Act framework\n",
    "\n",
    "The Rational Speech Act (RSA) framework views communication as **recursive reasoning** between a speaker and a listener. **The listener** interprets the speaker’s utterance by reasoning about a **cooperative speaker** trying to inform a naive listener about some state of affairs.  \n",
    "\n",
    "Using **Bayesian inference**, the listener reasons about what the **state of the world** is likely to be given that a speaker produced some **utterance**, knowing that the speaker is reasoning about how a listener is **most likely to interpret** that utterance.  \n",
    "\n",
    "Thus, we have (at least) three levels of inference:\n",
    "\n",
    "* The **literal listener, $L_0$**, who infers the **state of the world $s$** given the **literal meaning** of an **utterance $u$**.\n",
    "* The **pargmatic speaker $S_1$** chooses $u$ by maximizing the probability that $L_0$ would interpret the utterance correctly.\n",
    "* The **pragmatic listener, $L_1$** reasons about $S_1$, and infers the **state of the world s** given that the speaker chose to produce the **utterance $u$**.\n",
    "\n",
    "\n",
    "To make this architecture more intelligible, let’s consider a concrete example and a vanilla version of an RSA model. In its initial formulation, [Frank and Goodman, 2012](https://science.sciencemag.org/content/336/6084/998) use the basic RSA framework to model **referent choice in efficient communication**. Let’s suppose that there are only three objects that the speaker and listener want to talk about, as in Fig. 1."
   ]
  },
  {
   "cell_type": "markdown",
   "metadata": {},
   "source": [
    "<center> <img src='../../img/rsa_scene.png' width=\"400\" height=\"400\" align=\"middle\"> </center>"
   ]
  },
  {
   "cell_type": "markdown",
   "metadata": {},
   "source": [
    "_Fig 1_: Example referential communication scenario from [Frank and Goodman, 2012](https://science.sciencemag.org/content/336/6084/998). Speakers choose a single word, **u**, to signal an object, **s**."
   ]
  },
  {
   "cell_type": "markdown",
   "metadata": {},
   "source": [
    "---\n",
    "In a **reference game**, a speaker wants to **refer to one of the given objects**. To simplify, we assume that the speaker may only choose one property (see below) with which to do so. In the example of _Fig. 1_, the set of world states\n",
    "\n",
    "$S = \\{blue\\; square, blue\\; circle, green\\; square\\}$\n",
    "\n",
    "contains the three objects given. The set of utterances\n",
    "\n",
    "$U=\\{“square”, “circle”, “green”, “blue”\\}$\n",
    "\n",
    "contains the four properties from which the speaker can choose.\n",
    "\n",
    "---\n",
    "\n",
    "A vanilla RSA model for this scenario consists of three recursively layered, **conditional probability rules** for speaker production and listener interpretation. The idea in this reference game is that a pragmatic speaker $S_1$\n",
    "chooses a word $u$ to best signal an object $s$ to a literal listener $L_0$, who interprets $u$ as true and finds the objects that are compatible with the meaning of $u$. The pragmatic listener $L_1$ reasons about the speaker’s reasoning and interprets $u$ accordingly, using **Bayes’ rule**; $L_1$ also weighs in the prior probability of objects in the scenario (i.e., an object’s salience, $\\mathbb{P}(s)$). By **formalizing the contributions of salience and efficiency**, the RSA framework provides an **information-theoretic definition of informativeness** in pragmatic inference."
   ]
  },
  {
   "cell_type": "markdown",
   "metadata": {},
   "source": [
    "### Recursive RSA inference\n",
    "* Pragmatic Listener: $\\mathbb{P}_{L_1}(s|u)\\propto \\mathbb{P}_{S_1}(u|s)\\cdot \\mathbb{P}(s)$\n",
    "* Pragmatic Speaker: $\\mathbb{P}_{S_1}(u|s)\\propto \\exp(\\alpha\\cdot U_{S_1}(u;s))$\n",
    "* Literal Listener: $\\mathbb{P}_{L_0}(s|u)\\propto [[u]](s)\\cdot \\mathbb{P}(s)$"
   ]
  },
  {
   "cell_type": "markdown",
   "metadata": {
    "jp-MarkdownHeadingCollapsed": true,
    "tags": []
   },
   "source": [
    "### Bayes' Rule\n",
    "<center> \n",
    "$\\underset{\\textbf{posterior}}{\\underbrace{\\mathbb{P}(hypothesis|data)}} = \\frac{\\overset{\\textbf{likelihood}}{\\overbrace{\\mathbb{P}(data|hypothesis)}} \\;\\cdot \\overset{\\textbf{Prior}}{\\overbrace{\\mathbb{P}(hypothesis)}}}{\\underset{\\textbf{marginal}}{\\underbrace{\\mathbb{P}(data)}}}$ </center>"
   ]
  },
  {
   "cell_type": "markdown",
   "metadata": {},
   "source": [
    "--- \n",
    "### 1. Literal Listener: $L_0$\n",
    "\n",
    "At the base of this reasoning hierarchy, the naive, literal listener $L_0$\n",
    "**interprets an utterance according to its meaning**. That is, $L_0$ computes the probability of $s$ given $u$ according to the semantics of $u$ and the **prior probability of $s$**. A standard view of the semantic content of an utterance suffices: a mapping from states of the world to truth values. For example, the utterance _\"blue\"_ is true of states $blue\\;square$ and $blue\\;circle$ and false of state $green\\;square$. We write **$[[u]]:S↦\\{0,1\\}$** for the denotation function of this standard, **Boolean semantics of utterances** in terms of states. The literal listener is then defined via a function **$\\mathbb{P}_{L_0}$** that maps each utterance to a **probability distribution over world states**, like so:\n",
    "\n",
    "$$\\mathbb{P}_{L_0}(s∣u)∝[[u]](s)\\cdot\\mathbb{P}(s)$$\n",
    "\n",
    "Here, $\\mathbb{P}(s)$ is an __a priori__ belief regarding which state or object the speaker is likely to refer to in general. These prior beliefs can capture __general world knowledge__, perceptual __salience__, or other things. For the time being, we assume a flat prior belief according to which each object is equally likely.\n",
    "\n",
    "The literal listener rule can be implemented as follows in _Pyro_:"
   ]
  },
  {
   "cell_type": "code",
   "execution_count": 6,
   "metadata": {},
   "outputs": [],
   "source": [
    "# Set of states as in Fig. 1.\n",
    "objects = [\n",
    "    \"blue square\",\n",
    "    \"blue circle\",\n",
    "    \"green square\"\n",
    "]\n",
    "\n",
    "# uniform distribution over world states\n",
    "def object_prior():\n",
    "    prior_dist = dist.Categorical(probs=torch.ones( len(objects)) / len(objects) )\n",
    "    idx = pyro.sample(\"object\", prior_dist)\n",
    "    return objects[idx]\n",
    "\n",
    "# set of utterances (all property values, in this case)\n",
    "utterances = [\"blue\", \"green\", \"square\", \"circle\"]\n",
    "\n",
    "# literal meaning function [[u]](s) to interpret the utterances\n",
    "meaning = lambda utterance, obj: utterance in obj\n",
    "\n",
    "@Marginal \n",
    "def literal_listener(utterance):\n",
    "    obj = object_prior()\n",
    "    # values below are log probabilities\n",
    "    pyro.factor(\"literal_meaning\", 0. if meaning(utterance, obj) else -999999.)\n",
    "    return obj"
   ]
  },
  {
   "cell_type": "markdown",
   "metadata": {},
   "source": [
    "Let's run this!"
   ]
  },
  {
   "cell_type": "code",
   "execution_count": 7,
   "metadata": {},
   "outputs": [
    {
     "data": {
      "image/png": "[encoded data removed]",
      "text/plain": [
       "<Figure size 640x480 with 1 Axes>"
      ]
     },
     "metadata": {},
     "output_type": "display_data"
    }
   ],
   "source": [
    "utterance = \"blue\"\n",
    "l0_dist = literal_listener(utterance)\n",
    "visualize(l0_dist)"
   ]
  },
  {
   "cell_type": "markdown",
   "metadata": {},
   "source": [
    "### Exercises 1\n",
    "\n",
    "1. In the model above, ```objectPrior()``` returns a sample from a uniform```Categorical``` distribution over the possible objects of reference. What happens when the listener's beliefs are not uniform over the possible objects of reference (e.g., the \"blue circle\" is very salient)?\n",
    "0. What happens for other values of ```utterance```?\n",
    "2. Write down the full Bayes Rule for $L_0$. Annotate it with the terms _likelihood_, _prior_, _marginal_, and _posterior_. Where, if at all, does $[[u]](s)$ appear?\n",
    "3. Compare your solution to _Ex. 1.2_ to the $L_0$ equation above: Why does the equation say $\\propto$? (Hint: Think about the **decision** $L_0$ makes after calculating the histogram above. Formulate this decision mathematically if needed.)\n",
    "4. What do ```pyro.sample``` and ```pyro.factor``` do, respectively? Consult the [_Pyro_ Docs](https://docs.pyro.ai/en/stable/primitives.html?highlight=factor#pyro.primitives.factor) (These, along with ```pyro.param``` are the three most basic _Pyro_ functions, which are called _primitives_)).\n",
    "5. Write down the mathematical notation for the variables ```literal_listener``` and ```marginal_l0_dist```. What is the difference?"
   ]
  },
  {
   "cell_type": "markdown",
   "metadata": {},
   "source": [
    "Fantastic! We now have a way of integrating a listener’s prior beliefs about the world with the truth functional meaning of an utterance.\n",
    "\n",
    "---"
   ]
  },
  {
   "cell_type": "markdown",
   "metadata": {},
   "source": [
    "### 2. Pragmatic Listener $S_1$\n",
    "_Speech acts_ are actions; thus, the speaker is modeled as a rational (**Bayesian**) actor. He chooses an action (e.g., an utterance) according to its **utility**. The speaker **simulates** taking an action, evaluates its utility, and chooses actions based on their utility. Rationality of choice is often defined as choice of an action that **maximizes** the agent’s (expected) utility. Here we consider a generalization in which speakers use a **softmax function** to approximate the (classical) rational choice to a variable degree. (For more on action as inverse planning, see [www.agentmodels.org](www.agentmodels.org).)"
   ]
  },
  {
   "cell_type": "markdown",
   "metadata": {},
   "source": [
    "### Bayesian decision-making\n",
    "\n",
    "In the code box below, you’ll see a generic **approximately rational** agent model. In rough terms, what happens is this: Each ```pyro.factor``` statement increments the logarithm of the probability (```log_prob```) of the argument to be evaluated. These evaluations happen many times: For one call of ```agent(...)```,\n",
    "__Monte Carlo__ is run (in this case, exhaustively), and a distribution of return values is created.\n",
    "\n",
    "For example, when the **HashingMarginal** resulting from the call to the _decorated_ ```agent``` considers the probabilities of the three actions in the example below (by enumeration), it first calculates a ```log_prob``` for each action (e.g., by evaluating the factor statement and considering the fact that each action is a draw from a uniform distribution), and then computes normalized probabilities from these. In effect, the function agent therefore computes the distribution:"
   ]
  },
  {
   "cell_type": "markdown",
   "metadata": {},
   "source": [
    "$$P(a_i) = \\frac{\\exp(\\alpha\\cdot U(a_i))}{\\sum_j\\exp(\\alpha\\cdot U(a_j))}$$\n",
    "Here, $\\alpha$ is also called optimality parameter, or **temperature**. The above **Softmax** distribution frequently occurs in the output layer of Neural-Network-based Classifiers."
   ]
  },
  {
   "cell_type": "code",
   "execution_count": 8,
   "metadata": {},
   "outputs": [],
   "source": [
    "# aside on bayesian decision making\n",
    "\n",
    "# define action space\n",
    "actions = [\"a1\", \"a2\", \"a3\"]\n",
    "\n",
    "# define uniform prior over actions\n",
    "def action_prior():\n",
    "    action_dist = dist.Categorical(probs = torch.ones(len(actions)) / len(actions) )\n",
    "    action = pyro.sample(\"action\", action_dist)\n",
    "    return action\n",
    "\n",
    "# define utilities for the actions\n",
    "def utility(tensor_action_idx):\n",
    "    action = actions[int(tensor_action_idx.item())]\n",
    "    lookup_table = {\n",
    "        \"a1\": 1.,\n",
    "        \"a2\": 2.,\n",
    "        \"a3\": 3.\n",
    "    }\n",
    "    return lookup_table[action]\n",
    "\n",
    "# define actor optimality\n",
    "alpha = 1\n",
    "\n",
    "# define rational agent who chooses actions\n",
    "# according to their expected utility\n",
    "@Marginal\n",
    "def agent():\n",
    "    action = action_prior()\n",
    "    pyro.factor(\"utility\", alpha * utility(action))\n",
    "    return action"
   ]
  },
  {
   "cell_type": "code",
   "execution_count": 9,
   "metadata": {},
   "outputs": [
    {
     "data": {
      "image/png": "[encoded data removed]",
      "text/plain": [
       "<Figure size 640x480 with 1 Axes>"
      ]
     },
     "metadata": {},
     "output_type": "display_data"
    }
   ],
   "source": [
    "agent_dist = agent()\n",
    "visualize(agent_dist)"
   ]
  },
  {
   "cell_type": "markdown",
   "metadata": {},
   "source": [
    "### Exercises 2 a)\n",
    "1. Check to make sure ```utility()``` returns the correct value for $a_3$.\n",
    "2. Explore what happens when you change the actor's optimality.\n",
    "3. Explore what happens when you change the utilities.\n",
    "\n",
    "---"
   ]
  },
  {
   "cell_type": "markdown",
   "metadata": {},
   "source": [
    "### A rational speech actor\n",
    "\n",
    "In language understanding, the **utility of an utterance** is how well it communicates the state of the world $s$ to a listener. So, the speaker $S_1$ chooses utterances $u$ to communicate the state $s$ to the hypothesized literal listener $L_0$. Another way to think about this: $S_1$ wants to **minimize the effort $L_0$ would need** to arrive at $s$ from $u$, all **while being efficient at communicating**. $S_1$ thus seeks to minimize the surprisal of $s$ given $u$ for the literal listener $L_0$, while bearing in mind the **utterance cost, $C(u)$**. (This trade-off between efficacy and efficiency is not trivial: speakers could always use minimal ambiguity, but unambiguous utterances tend toward the unwieldy, and, very often, unnecessary. We will see this tension play out later in the book.)"
   ]
  },
  {
   "cell_type": "markdown",
   "metadata": {},
   "source": [
    "Speakers act in accordance with the speaker’s utility function $U_{S_1}$: utterances are more useful at communicating about some state as surprisal and utterance cost decrease. (See the Appendix Chapter 2 for more on speaker utilities.)"
   ]
  },
  {
   "cell_type": "markdown",
   "metadata": {},
   "source": [
    "$$U_{S_1}(u;s) = \\log L_0(s|u) - C(u)$$"
   ]
  },
  {
   "cell_type": "markdown",
   "metadata": {},
   "source": [
    "### Exercise 2 b)\n",
    "1. Find $\\log L_0(s|u=“blue”)$ for each reference object $s$."
   ]
  },
  {
   "cell_type": "code",
   "execution_count": 10,
   "metadata": {},
   "outputs": [
    {
     "data": {
      "text/plain": [
       "tensor([-999999.6931])"
      ]
     },
     "execution_count": 10,
     "metadata": {},
     "output_type": "execute_result"
    }
   ],
   "source": [
    "l0_dist.log_prob(objects[0])\n",
    "l0_dist.log_prob(objects[1])\n",
    "l0_dist.log_prob(objects[2])"
   ]
  },
  {
   "cell_type": "markdown",
   "metadata": {},
   "source": [
    "---\n",
    "With this utility function in mind, $S_1$ computes the probability of an utterance $u$ given some state $s$ in proportion to the speaker's utility function $U_{S_1}$. The term $\\alpha > 0$ controls the speaker's optimality, i.e. the speaker's **rationality** in choosing utterances. We define\n",
    "\n",
    "$$P_{S_1}(u|s)\\propto\\exp(\\alpha\\cdot U_{S_1}(u;s)),$$\n",
    "which expands to\n",
    "\n",
    "$$P_{S_1}(u|s)\\propto\\exp(\\alpha(\\log L_0(s|u)-C(u)))$$\n",
    "\n",
    "The following code implements this model of the speaker:"
   ]
  },
  {
   "cell_type": "code",
   "execution_count": 12,
   "metadata": {},
   "outputs": [],
   "source": [
    "# your code here\n",
    "s1_alpha = 1\n",
    "\n",
    "cost = lambda utterance: 0\n",
    "\n",
    "def utterance_prior():\n",
    "    action_dist = dist.Categorical(probs = torch.ones(len(utterances)) / len(utterances) )\n",
    "    action = pyro.sample(\"utterance\", action_dist)\n",
    "    return utterances[action]\n",
    "\n",
    "# pragmatic speaker\n",
    "@Marginal\n",
    "def pragmatic_speaker(obj):\n",
    "    utterance = utterance_prior()\n",
    "    \n",
    "    s1_utility = literal_listener(utterance).log_prob(obj) - cost(utterance)\n",
    "    \n",
    "    pyro.factor(\"speaker\", s1_alpha * s1_utility)\n",
    "    return utterance"
   ]
  },
  {
   "cell_type": "code",
   "execution_count": 13,
   "metadata": {},
   "outputs": [
    {
     "data": {
      "image/png": "[encoded data removed]",
      "text/plain": [
       "<Figure size 640x480 with 1 Axes>"
      ]
     },
     "metadata": {},
     "output_type": "display_data"
    }
   ],
   "source": [
    "idx = 0\n",
    "s1_dist = pragmatic_speaker(objects[idx])\n",
    "visualize(s1_dist)"
   ]
  },
  {
   "cell_type": "markdown",
   "metadata": {},
   "source": [
    "## Exercise 2 c)\n",
    "1. Visualise the speaker`s behavior for a blue square. You will have to define all of the variables referenced by ```speaker``` appropriately. You could make reasonable choices for $\\alpha$ and $C(\\cdot)$, or experiment. It should be enough to keep all distributions uniform for a start. \n",
    "\n",
    "---"
   ]
  },
  {
   "cell_type": "markdown",
   "metadata": {},
   "source": [
    "## 3. Pragmatic Listener $L_1$\n",
    "\n",
    "\n",
    "The pragmatic listener $L_1$\n",
    "computes the probability of a state $s$ given some utterance $u$. By reasoning about the speaker $S_1$, this probability is proportional to the probability that $S_1$ would choose to utter $u$ to communicate about the state $s$, together with the prior probability of $s$ itself. In other words, to interpret an utterance, the pragmatic listener **considers the process that generated the utterance** in the first place.\n",
    "\n",
    "$$P_{L_1}(s|u)\\propto P_{S_1}(u|s)\\cdot P(s)$$"
   ]
  },
  {
   "cell_type": "code",
   "execution_count": 16,
   "metadata": {},
   "outputs": [],
   "source": [
    "@Marginal\n",
    "def pragmatic_listener(utterance):\n",
    "    # your code here\n",
    "    obj = object_prior()\n",
    "    speaker_dist = pragmatic_speaker(obj)\n",
    "    # condition on observed utterance:\n",
    "    pyro.sample(\"l1_simulation_of_speaker\", speaker_dist, obs=utterance)\n",
    "    return obj"
   ]
  },
  {
   "cell_type": "code",
   "execution_count": 20,
   "metadata": {},
   "outputs": [
    {
     "data": {
      "image/png": "[encoded data removed]",
      "text/plain": [
       "<Figure size 640x480 with 1 Axes>"
      ]
     },
     "metadata": {},
     "output_type": "display_data"
    }
   ],
   "source": [
    "utt = \"blue\"\n",
    "l1_dist = pragmatic_listener(utt)\n",
    "visualize(l1_dist)"
   ]
  },
  {
   "cell_type": "markdown",
   "metadata": {},
   "source": [
    "## Exercise 3\n",
    "1. Implement the ```pragmatic_listener```.\n",
    "2. Visualize its interpretations of various utterances.\n",
    "---"
   ]
  },
  {
   "cell_type": "markdown",
   "metadata": {},
   "source": [
    "Awesome, that´s it. Weve reached the top of the vanilla RSA inference hierarchy, so pat yourself on the back for making it this far. \n",
    "\n",
    "Alright, let´s quickly throw it all together again for some more exercises.\n",
    "\n",
    "## 4. Putting it all together"
   ]
  },
  {
   "cell_type": "code",
   "execution_count": null,
   "metadata": {},
   "outputs": [],
   "source": [
    "# TODO copy everything from above"
   ]
  },
  {
   "cell_type": "markdown",
   "metadata": {},
   "source": [
    "## Exercise 3: \n",
    "1. Explore what happens if you make the speaker _more_ optimal.\n",
    "2. Add another object to the scenario.\n",
    "3. Add a new multi-word utterance.\n",
    "4. Check the behavior of the other possible utterances.\n",
    "5. Is there any way to get ``blue`` to refer to something green? Why or why not?\n",
    "6. Think about implicit assumptions in this model regarding what speaker and listener know about one another (You could make a table with distributions and parameters, who they ```belong``` to, and who, out of speaker and listener, has access to them). How would you address this, i.e. think of a speaker and listener that do not have access to each other. What additional problems would you expect in this case? (For further discussion, see _Sec. 4.3_ in [Kang et al. (2020)](https://arxiv.org/abs/2006.04109).)\n",
    "\n",
    "Happy coding :)"
   ]
  }
 ],
 "metadata": {
  "kernelspec": {
   "display_name": "prag",
   "language": "python",
   "name": "prag"
  },
  "language_info": {
   "codemirror_mode": {
    "name": "ipython",
    "version": 3
   },
   "file_extension": ".py",
   "mimetype": "text/x-python",
   "name": "python",
   "nbconvert_exporter": "python",
   "pygments_lexer": "ipython3",
   "version": "3.10.4"
  }
 },
 "nbformat": 4,
 "nbformat_minor": 4
}
