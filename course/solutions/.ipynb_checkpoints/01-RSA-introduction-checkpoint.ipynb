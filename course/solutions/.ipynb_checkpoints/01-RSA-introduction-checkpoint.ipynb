{
 "cells": [
  {
   "cell_type": "markdown",
   "metadata": {},
   "source": [
    "(This notebook was assembled in parts from an official [Pyro example](http://pyro.ai/examples/RSA-implicature.html) and [Chapter 1](http://www.problang.org/chapters/01-introduction.html) of the [Problang webbook](www.problang.org). \n",
    "The code is adapted from the Pyro example to fit the educational structure of the Problang chapter. I attempted to stay as close to the webbook as possible, but some minor alterations have been made, that hopefully stay true to the spirit of the Problang book. ~ Marvin Koss"
   ]
  },
  {
   "cell_type": "code",
   "execution_count": 48,
   "metadata": {},
   "outputs": [],
   "source": [
    "# first some imports\n",
    "import torch\n",
    "torch.set_default_dtype(torch.float64)  # double precision for numerical stability\n",
    "\n",
    "import collections\n",
    "from collections import namedtuple\n",
    "\n",
    "import argparse\n",
    "import matplotlib.pyplot as plt\n",
    "\n",
    "import pyro\n",
    "import pyro.distributions as dist\n",
    "import pyro.poutine as poutine\n",
    "\n",
    "from pyro_rsa_book_utils.search_inference import HashingMarginal, memoize, Search\n",
    "from pyro_rsa_book_utils import silly_plotter\n",
    "\n",
    "import warnings\n",
    "warnings.filterwarnings(\"ignore\")"
   ]
  },
  {
   "cell_type": "markdown",
   "metadata": {},
   "source": [
    "We specify a helper function that wraps up inference. **Marginal** takes an un-normalized stochastic function, constructs the distribution over execution traces by using **Search**, and constructs the marginal distribution on return values (via **HashingMarginal**)."
   ]
  },
  {
   "cell_type": "code",
   "execution_count": 49,
   "metadata": {},
   "outputs": [],
   "source": [
    "def Marginal(fn):\n",
    "    return memoize(lambda *args: HashingMarginal(Search(fn).run(*args)))"
   ]
  },
  {
   "cell_type": "markdown",
   "metadata": {},
   "source": [
    "# Chapter 1: Language understanding as Bayesian inference\n",
    "\n",
    "Much work in formal, compositional semantics follows the tradition of positing systematic but inflexible theories of meaning. However, in practice, the meaning we derive from language is heavily dependent on **nearly all aspects of context, both linguistic and situational**. To formally explain these nuanced aspects of meaning and better understand the compositional mechanism that delivers them, recent work in formal pragmatics recognizes semantics not as one of the final steps in meaning calculation, but rather as one of the first. Within the Bayesian **Rational Speech Act** framework ([Frank and Goodman, 2012](https://science.sciencemag.org/content/336/6084/998), **RSA**), **speakers** and **listeners** reason about each other’s reasoning about the literal interpretation of **utterances**. The resulting interpretation necessarily depends on the literal interpretation of an utterance, but is not necessarily wholly determined by it. This move — reasoning about likely interpretations — provides ready explanations for complex phenomena ranging from metaphor ([Kao et al., 2014](https://scholar.google.com/scholar?q=%22Formalizing%20the%20pragmatics%20of%20metaphor%20understanding%22)) and hyperbole ([Kao et al., 2014](http://www.pnas.org/content/111/33/12002)) to the specification of thresholds in degree semantics ([Lassiter and Goodman, 2013](http://journals.linguisticsociety.org/proceedings/index.php/SALT/article/view/2658)).\n",
    "\n",
    "---\n",
    "\n",
    "The **probabilistic pragmatics** approach leverages the tools of structured probabilistic models formalized in a **stochastic 𝞴-calculus** to develop and refine a **general theory of communication**. The framework synthesizes the knowledge and approaches from diverse areas — formal semantics, Bayesian models of inference, formal theories of measurement, philosophy of language, etc. — into an articulated theory of language in practice. These new tools yield broader empirical coverage and richer explanations for linguistic phenomena through the recognition of **language as a means of communication**, not merely a vacuum-sealed formal system. By subjecting the heretofore off-limits land of pragmatics to articulated formal models, the rapidly growing body of research both informs pragmatic phenomena and enriches theories of semantics. In what follows, we consider the first foray into this framework."
   ]
  },
  {
   "cell_type": "markdown",
   "metadata": {},
   "source": [
    "# Introducing the Rational Speech Act framework\n",
    "\n",
    "The Rational Speech Act (RSA) framework views communication as **recursive reasoning** between a speaker and a listener. **The listener** interprets the speaker’s utterance by reasoning about a **cooperative speaker** trying to inform a naive listener about some state of affairs. Using **Bayesian inference**, the listener reasons about what the **state of the world** is likely to be given that a speaker produced some **utterance**, knowing that the speaker is reasoning about how a listener is **most likely to interpret** that utterance. Thus, we have (at least) three levels of inference. At the top, the sophisticated, **pragmatic listener, $L_1$**\n",
    ", reasons about the **pragmatic speaker, $S_1$**, and infers the **state of the world s** given that the speaker chose to produce the **utterance $u$**. The speaker chooses $u$ by maximizing the probability that a naive, **literal listener, $L_0$**, would correctly infer the **state of the world $s$** given the **literal meaning of $u$**.\n",
    "\n",
    "To make this architecture more intelligible, let’s consider a concrete example and a vanilla version of an RSA model. In its initial formulation, [Frank and Goodman, 2012](https://science.sciencemag.org/content/336/6084/998) use the basic RSA framework to model **referent choice in efficient communication**. Let’s suppose that there are only three objects that the speaker and listener want to talk about, as in Fig. 1."
   ]
  },
  {
   "cell_type": "markdown",
   "metadata": {},
   "source": [
    "<img src='../../img/rsa_scene.png' width=\"400\" height=\"400\" align=\"middle\">"
   ]
  },
  {
   "cell_type": "markdown",
   "metadata": {},
   "source": [
    "_Fig 1_: Example referential communication scenario from [Frank and Goodman, 2012](https://science.sciencemag.org/content/336/6084/998). Speakers choose a single word, $u$, to signal an object, $s$."
   ]
  },
  {
   "cell_type": "markdown",
   "metadata": {},
   "source": [
    "---\n",
    "In a reference game, a speaker wants to **refer to one of the given objects**. To simplify, we assume that the speaker may only choose one property (see below) with which to do so. In the example of _Fig. 1_, the set of world states\n",
    "\n",
    "$S = \\{blue-square, blue-circle, green-square\\}$\n",
    "\n",
    "contains the three objects given. The set of utterances\n",
    "\n",
    "$U=\\{``square\",``circle\",``green\",``blue\"\\}$\n",
    "\n",
    "contains the four properties from which the speaker can choose.\n",
    "\n",
    "---\n",
    "\n",
    "A vanilla RSA model for this scenario consists of three recursively layered, **conditional probability rules** for speaker production and listener interpretation. These rules are summarized in _Fig. 2_ and will be examined one-by-one below. The overal idea is that a pragmatic speaker $S_1$\n",
    "chooses a word $u$ to best signal an object $s$ to a literal listener $L_0$, who interprets $u$ as true and finds the objects that are compatible with the meaning of $u$. The pragmatic listener $L_1$ reasons about the speaker’s reasoning and interprets $u$ accordingly, using **Bayes’ rule**; $L_1$ also weighs in the prior probability of objects in the scenario (i.e., an object’s salience, $P(s)$). By **formalizing the contributions of salience and efficiency**, the RSA framework provides an **information-theoretic definition of informativeness** in pragmatic inference."
   ]
  },
  {
   "cell_type": "markdown",
   "metadata": {},
   "source": [
    "* Pragmatic Listener: $P_{L_1}(s|u)\\propto P_{S_1}(u|s)\\cdot P(s)$\n",
    "* Pragmatic Speaker: $P_{S_1}(u|s)\\propto \\exp(\\alpha U_{S_1}(u;s)$\n",
    "* Literal Listener: $P_{L_0}(s|u)\\propto [[u]](s)\\cdot P(s)$\n",
    "\n",
    "_Fig. 2_: Schema of RSA reasoning hierarchy."
   ]
  },
  {
   "cell_type": "markdown",
   "metadata": {},
   "source": [
    "--- \n",
    "## 1. Literal Listener: $L_0$\n",
    "\n",
    "At the base of this reasoning, the naive, literal listener $L_0$\n",
    "**interprets an utterance according to its meaning**. That is, L0 computes the probability of s given u according to the semantics of u and the prior probability of s. A standard view of the semantic content of an utterance suffices: a mapping from states of the world to truth values. For example, the utterance \"blue\" is true of states blue-square and blue-circle and false of state green-square. We write **$[[u]]:S↦\\{0,1\\}$** for the denotation function of this standard, **Boolean semantics of utterances** in terms of states. The literal listener is then defined via a function **$P_{L_0}:U↦Δ^S$** that maps each utterance to a **probability distribution over world states $Δ^S$**, like so:\n",
    "\n",
    "$$P_{L_0}(s∣u)∝[[u]](s)⋅P(s)$$\n",
    "\n",
    "Here, $P(s)$ is an _a priori_ belief regarding which state or object the speaker is likely to refer to in general. These prior beliefs can capture general world knowledge, perceptual salience, or other things. For the time being, we assume a flat prior belief according to which each object is equally likely. (As we move away from flat priors, we’ll want to revise these assumptions so that $L_0$ (but not $L_1$!) uses a uniform prior over states. In fact, this is what [Frank and Goodman, 2012](https://science.sciencemag.org/content/336/6084/998) assumed in their model. See Appendix Chapter 4 for discussion.)\n",
    "\n",
    "The literal listener rule can be implemented as follows in _Pyro_:"
   ]
  },
  {
   "cell_type": "code",
   "execution_count": 50,
   "metadata": {},
   "outputs": [],
   "source": [
    "Object = namedtuple(\"Object\", (\"color\", \"shape\", \"string\"))\n",
    "_obj = lambda color, shape: Object(color, shape, \" \".join([color, shape])) \n",
    "\n",
    "# Set of states as in Fig. 1 (here: objects of reference).\n",
    "# We represent Objects as namedtuples to disambiguate them from utterances\n",
    "# Internally Objects are still treated as strings.\n",
    "objects = [\n",
    "    _obj(\"blue\", \"square\"),\n",
    "    _obj(\"blue\", \"circle\"),\n",
    "    _obj(\"green\", \"square\")\n",
    "]\n",
    "\n",
    "# uniform distribution over world states\n",
    "def object_prior():\n",
    "    prior_dist = dist.Categorical(probs=torch.ones(len(objects))/len(objects))\n",
    "    # SOLN EX 1.I (DELETE):\n",
    "    # prior_dist = dist.Categorical(probs=torch.Tensor([1,2,5]))\n",
    "    idx = pyro.sample(\"object\", prior_dist)\n",
    "    return objects[idx]\n",
    "\n",
    "# set of utterances (all property values, in this case)\n",
    "utterances = [\"blue\", \"green\", \"square\", \"circle\"]\n",
    "\n",
    "# literal meaning function [[u]](s) to interpret the utterances\n",
    "meaning = lambda utterance, obj: utterance in obj.string\n",
    "\n",
    "@Marginal # <- makes function call run an exhaustive search over all (stochastic) pyro.sample/.factor/... calls to get an accurate \"marginal\" dist over return values \n",
    "def literal_listener(utterance):\n",
    "    obj = object_prior()\n",
    "    # values below are log probabilities\n",
    "    pyro.factor(\"literal_meaning\", 0. if meaning(utterance, obj) else -999999.)\n",
    "    return obj"
   ]
  },
  {
   "cell_type": "markdown",
   "metadata": {},
   "source": [
    "Let's run this!"
   ]
  },
  {
   "cell_type": "code",
   "execution_count": 61,
   "metadata": {},
   "outputs": [
    {
     "name": "stdout",
     "output_type": "stream",
     "text": [
      "['__abstractmethods__', '__call__', '__class__', '__delattr__', '__dict__', '__dir__', '__doc__', '__eq__', '__format__', '__ge__', '__getattribute__', '__gt__', '__hash__', '__init__', '__init_subclass__', '__le__', '__lt__', '__module__', '__ne__', '__new__', '__reduce__', '__reduce_ex__', '__repr__', '__setattr__', '__sizeof__', '__str__', '__subclasshook__', '__weakref__', '_abc_impl', '_dict_to_tuple', '_dist_and_values', '_weighted_mean', 'conjugate_update', 'enumerate_support', 'has_enumerate_support', 'has_rsample', 'has_rsample_', 'log_prob', 'mean', 'rv', 'sample', 'score_parts', 'sites', 'trace_dist', 'variance']\n"
     ]
    },
    {
     "data": {
      "image/png": "[encoded data removed]",
      "text/plain": [
       "<Figure size 432x288 with 1 Axes>"
      ]
     },
     "metadata": {
      "needs_background": "light"
     },
     "output_type": "display_data"
    }
   ],
   "source": [
    "utterance = \"square\"\n",
    "marginal_l0_dist = literal_listener(utterance)\n",
    "silly_plotter(marginal_l0_dist)"
   ]
  },
  {
   "cell_type": "markdown",
   "metadata": {},
   "source": [
    "## Exercises 1\n",
    "\n",
    "1. In the model above, ```objectPrior()``` returns a sample from a uniform```Categorical``` distribution over the possible objects of reference. What happens when the listener's beliefs are not uniform over the possible objects of reference (e.g., the \"green square\" is very salient)?\n",
    "0. What happens for other values of ```utterance```?\n",
    "2. Write down the full Bayes Rule for $L_0$. Annotate it with the terms _likelihood_, _prior_, _marginal_, and _posterior_. Where, if at all, does $[[u]](s)$ appear?\n",
    "3. Compare your solution to _Ex. 1.2_ to the $L_0$ equation above: Why does the equation say $\\propto$? (Hint: Think about the **decision** $L_0$ makes after calculating the histogram above. Formulate this decision mathematically if needed.)\n",
    "4. What do ```pyro.sample``` and ```pyro.factor``` do, respectively? Consult the [_Pyro_ Docs](https://docs.pyro.ai/en/stable/primitives.html?highlight=factor#pyro.primitives.factor) (These, along with ```pyro.param``` are the three most basic _Pyro_ functions, which called _primitives_)).\n",
    "5. Write down the mathematical notation for the variables ```literal_listener``` and ```marginal_l0_dist```. What is the difference?"
   ]
  },
  {
   "cell_type": "markdown",
   "metadata": {},
   "source": [
    "Fantastic! We now have a way of integrating a listener’s prior beliefs about the world with the truth functional meaning of an utterance.\n",
    "\n",
    "---"
   ]
  },
  {
   "cell_type": "markdown",
   "metadata": {},
   "source": [
    "## 2. Pragmatic Listener $S_1$\n",
    "_Speech acts_ are actions; thus, the speaker is modeled as a rational (**Bayesian**) actor. He chooses an action (e.g., an utterance) according to its **utility**. The speaker **simulates** taking an action, evaluates its utility, and chooses actions based on their utility. Rationality of choice is often defined as choice of an action that **maximizes** the agent’s (expected) utility. Here we consider a generalization in which speakers use a **softmax function** to approximate the (classical) rational choice to a variable degree. (For more on action as inverse planning, see [www.agentmodels.org](www.agentmodels.org).)"
   ]
  },
  {
   "cell_type": "markdown",
   "metadata": {},
   "source": [
    "### Bayesian decision-making\n",
    "\n",
    "In the code box below, you’ll see a generic **approximately rational** agent model. In rough terms, what happens is this: Each factor statement interacts with a call to Infer by incrementing a so-called log-score, the logarithm of the probability of the argument to be evaluated. For example, when Infer considers the probabilities of the three actions in the example below (by enumeration, its default method), it first calculates a log-score for each action (e.g., by evaluating the factor statement and considering the fact that each action is a draw from a uniform distribution), and then computes normalized probabilities from these. In effect, the function agent therefore computes the distribution:"
   ]
  },
  {
   "cell_type": "markdown",
   "metadata": {},
   "source": [
    "$$P(a_i) = \\frac{\\exp(\\alpha\\cdot U(a_i))}{\\sum_j\\exp(\\alpha\\cdot U(a_j))}$$\n",
    "Here, $\\alpha$ is also called optimality parameter, or temperature. The above **Softmax** distribution frequently occurs in the output layer of Neural Sequence-to-Sequence Models."
   ]
  },
  {
   "cell_type": "code",
   "execution_count": 54,
   "metadata": {},
   "outputs": [],
   "source": [
    "# aside on bayesian decision making\n",
    "\n",
    "# define action space\n",
    "actions = [\"a1\", \"a2\", \"a3\"]\n",
    "\n",
    "# define uniform prior over actions\n",
    "def action_prior():\n",
    "    action_dist = dist.Categorical(probs=torch.ones(len(actions))/len(actions))\n",
    "    action = pyro.sample(\"action\", action_dist)\n",
    "    return action\n",
    "\n",
    "# define utilities for the actions\n",
    "def utility(tensor_action_idx):\n",
    "    action = actions[int(tensor_action_idx.item())]\n",
    "    lookup_table = {\n",
    "        \"a1\": 1,\n",
    "        \"a2\": 2,\n",
    "        \"a3\": 3\n",
    "    }\n",
    "    return lookup_table[action]\n",
    "\n",
    "# define actor optimality\n",
    "alpha = 1\n",
    "\n",
    "# define rational agent who chooses actions\n",
    "# according to their expected utility\n",
    "@Marginal\n",
    "def agent():\n",
    "    action = action_prior()\n",
    "    pyro.factor(\"utility\", alpha * utility(action))\n",
    "    return action"
   ]
  },
  {
   "cell_type": "code",
   "execution_count": 55,
   "metadata": {},
   "outputs": [
    {
     "ename": "RuntimeError",
     "evalue": "value cannot be converted to type int64_t without overflow: inf",
     "output_type": "error",
     "traceback": [
      "\u001b[0;31m---------------------------------------------------------------------------\u001b[0m",
      "\u001b[0;31mRuntimeError\u001b[0m                              Traceback (most recent call last)",
      "\u001b[0;32m<ipython-input-55-c1ce6f7a5a46>\u001b[0m in \u001b[0;36m<module>\u001b[0;34m\u001b[0m\n\u001b[0;32m----> 1\u001b[0;31m \u001b[0magent_dist\u001b[0m \u001b[0;34m=\u001b[0m \u001b[0magent\u001b[0m\u001b[0;34m(\u001b[0m\u001b[0;34m)\u001b[0m\u001b[0;34m\u001b[0m\u001b[0;34m\u001b[0m\u001b[0m\n\u001b[0m",
      "\u001b[0;32m<ipython-input-49-f71cd845a229>\u001b[0m in \u001b[0;36m<lambda>\u001b[0;34m(*args)\u001b[0m\n\u001b[1;32m      1\u001b[0m \u001b[0;32mdef\u001b[0m \u001b[0mMarginal\u001b[0m\u001b[0;34m(\u001b[0m\u001b[0mfn\u001b[0m\u001b[0;34m)\u001b[0m\u001b[0;34m:\u001b[0m\u001b[0;34m\u001b[0m\u001b[0;34m\u001b[0m\u001b[0m\n\u001b[0;32m----> 2\u001b[0;31m     \u001b[0;32mreturn\u001b[0m \u001b[0mmemoize\u001b[0m\u001b[0;34m(\u001b[0m\u001b[0;32mlambda\u001b[0m \u001b[0;34m*\u001b[0m\u001b[0margs\u001b[0m\u001b[0;34m:\u001b[0m \u001b[0mHashingMarginal\u001b[0m\u001b[0;34m(\u001b[0m\u001b[0mSearch\u001b[0m\u001b[0;34m(\u001b[0m\u001b[0mfn\u001b[0m\u001b[0;34m)\u001b[0m\u001b[0;34m.\u001b[0m\u001b[0mrun\u001b[0m\u001b[0;34m(\u001b[0m\u001b[0;34m*\u001b[0m\u001b[0margs\u001b[0m\u001b[0;34m)\u001b[0m\u001b[0;34m)\u001b[0m\u001b[0;34m)\u001b[0m\u001b[0;34m\u001b[0m\u001b[0;34m\u001b[0m\u001b[0m\n\u001b[0m",
      "\u001b[0;32m~/fun/quant/qq/lib/python3.8/site-packages/pyro_rsa_book_utils-0.9-py3.8.egg/pyro_rsa_book_utils/search_inference.py\u001b[0m in \u001b[0;36mrun\u001b[0;34m(self, *args, **kwargs)\u001b[0m\n\u001b[1;32m    208\u001b[0m         \u001b[0mself\u001b[0m\u001b[0;34m.\u001b[0m\u001b[0m_reset\u001b[0m\u001b[0;34m(\u001b[0m\u001b[0;34m)\u001b[0m\u001b[0;34m\u001b[0m\u001b[0;34m\u001b[0m\u001b[0m\n\u001b[1;32m    209\u001b[0m         \u001b[0;32mwith\u001b[0m \u001b[0mpoutine\u001b[0m\u001b[0;34m.\u001b[0m\u001b[0mblock\u001b[0m\u001b[0;34m(\u001b[0m\u001b[0;34m)\u001b[0m\u001b[0;34m:\u001b[0m\u001b[0;34m\u001b[0m\u001b[0;34m\u001b[0m\u001b[0m\n\u001b[0;32m--> 210\u001b[0;31m             \u001b[0;32mfor\u001b[0m \u001b[0mi\u001b[0m\u001b[0;34m,\u001b[0m \u001b[0mvals\u001b[0m \u001b[0;32min\u001b[0m \u001b[0menumerate\u001b[0m\u001b[0;34m(\u001b[0m\u001b[0mself\u001b[0m\u001b[0;34m.\u001b[0m\u001b[0m_traces\u001b[0m\u001b[0;34m(\u001b[0m\u001b[0;34m*\u001b[0m\u001b[0margs\u001b[0m\u001b[0;34m,\u001b[0m \u001b[0;34m**\u001b[0m\u001b[0mkwargs\u001b[0m\u001b[0;34m)\u001b[0m\u001b[0;34m)\u001b[0m\u001b[0;34m:\u001b[0m\u001b[0;34m\u001b[0m\u001b[0;34m\u001b[0m\u001b[0m\n\u001b[0m\u001b[1;32m    211\u001b[0m                 \u001b[0;32mif\u001b[0m \u001b[0mlen\u001b[0m\u001b[0;34m(\u001b[0m\u001b[0mvals\u001b[0m\u001b[0;34m)\u001b[0m \u001b[0;34m==\u001b[0m \u001b[0;36m2\u001b[0m\u001b[0;34m:\u001b[0m\u001b[0;34m\u001b[0m\u001b[0;34m\u001b[0m\u001b[0m\n\u001b[1;32m    212\u001b[0m                     \u001b[0mchain_id\u001b[0m \u001b[0;34m=\u001b[0m \u001b[0;36m0\u001b[0m\u001b[0;34m\u001b[0m\u001b[0;34m\u001b[0m\u001b[0m\n",
      "\u001b[0;32m~/fun/quant/qq/lib/python3.8/site-packages/pyro_rsa_book_utils-0.9-py3.8.egg/pyro_rsa_book_utils/search_inference.py\u001b[0m in \u001b[0;36m_traces\u001b[0;34m(self, *args, **kwargs)\u001b[0m\n\u001b[1;32m    196\u001b[0m         \u001b[0;32mwhile\u001b[0m \u001b[0;32mnot\u001b[0m \u001b[0mq\u001b[0m\u001b[0;34m.\u001b[0m\u001b[0mempty\u001b[0m\u001b[0;34m(\u001b[0m\u001b[0;34m)\u001b[0m\u001b[0;34m:\u001b[0m\u001b[0;34m\u001b[0m\u001b[0;34m\u001b[0m\u001b[0m\n\u001b[1;32m    197\u001b[0m             \u001b[0mtr\u001b[0m \u001b[0;34m=\u001b[0m \u001b[0mp\u001b[0m\u001b[0;34m.\u001b[0m\u001b[0mget_trace\u001b[0m\u001b[0;34m(\u001b[0m\u001b[0;34m*\u001b[0m\u001b[0margs\u001b[0m\u001b[0;34m,\u001b[0m \u001b[0;34m**\u001b[0m\u001b[0mkwargs\u001b[0m\u001b[0;34m)\u001b[0m\u001b[0;34m\u001b[0m\u001b[0;34m\u001b[0m\u001b[0m\n\u001b[0;32m--> 198\u001b[0;31m             \u001b[0;32myield\u001b[0m \u001b[0mtr\u001b[0m\u001b[0;34m,\u001b[0m \u001b[0mtr\u001b[0m\u001b[0;34m.\u001b[0m\u001b[0mlog_prob_sum\u001b[0m\u001b[0;34m(\u001b[0m\u001b[0;34m)\u001b[0m\u001b[0;34m\u001b[0m\u001b[0;34m\u001b[0m\u001b[0m\n\u001b[0m\u001b[1;32m    199\u001b[0m \u001b[0;34m\u001b[0m\u001b[0m\n\u001b[1;32m    200\u001b[0m     \u001b[0;32mdef\u001b[0m \u001b[0mrun\u001b[0m\u001b[0;34m(\u001b[0m\u001b[0mself\u001b[0m\u001b[0;34m,\u001b[0m \u001b[0;34m*\u001b[0m\u001b[0margs\u001b[0m\u001b[0;34m,\u001b[0m \u001b[0;34m**\u001b[0m\u001b[0mkwargs\u001b[0m\u001b[0;34m)\u001b[0m\u001b[0;34m:\u001b[0m\u001b[0;34m\u001b[0m\u001b[0;34m\u001b[0m\u001b[0m\n",
      "\u001b[0;32m~/fun/quant/qq/lib/python3.8/site-packages/pyro/poutine/trace_struct.py\u001b[0m in \u001b[0;36mlog_prob_sum\u001b[0;34m(self, site_filter)\u001b[0m\n\u001b[1;32m    209\u001b[0m                     \u001b[0;32mif\u001b[0m \u001b[0mis_validation_enabled\u001b[0m\u001b[0;34m(\u001b[0m\u001b[0;34m)\u001b[0m\u001b[0;34m:\u001b[0m\u001b[0;34m\u001b[0m\u001b[0;34m\u001b[0m\u001b[0m\n\u001b[1;32m    210\u001b[0m                         \u001b[0mwarn_if_nan\u001b[0m\u001b[0;34m(\u001b[0m\u001b[0mlog_p\u001b[0m\u001b[0;34m,\u001b[0m \u001b[0;34m\"log_prob_sum at site '{}'\"\u001b[0m\u001b[0;34m.\u001b[0m\u001b[0mformat\u001b[0m\u001b[0;34m(\u001b[0m\u001b[0mname\u001b[0m\u001b[0;34m)\u001b[0m\u001b[0;34m)\u001b[0m\u001b[0;34m\u001b[0m\u001b[0;34m\u001b[0m\u001b[0m\n\u001b[0;32m--> 211\u001b[0;31m                         warn_if_inf(\n\u001b[0m\u001b[1;32m    212\u001b[0m                             \u001b[0mlog_p\u001b[0m\u001b[0;34m,\u001b[0m\u001b[0;34m\u001b[0m\u001b[0;34m\u001b[0m\u001b[0m\n\u001b[1;32m    213\u001b[0m                             \u001b[0;34m\"log_prob_sum at site '{}'\"\u001b[0m\u001b[0;34m.\u001b[0m\u001b[0mformat\u001b[0m\u001b[0;34m(\u001b[0m\u001b[0mname\u001b[0m\u001b[0;34m)\u001b[0m\u001b[0;34m,\u001b[0m\u001b[0;34m\u001b[0m\u001b[0;34m\u001b[0m\u001b[0m\n",
      "\u001b[0;32m~/fun/quant/qq/lib/python3.8/site-packages/pyro/util.py\u001b[0m in \u001b[0;36mwarn_if_inf\u001b[0;34m(value, msg, allow_posinf, allow_neginf, filename, lineno)\u001b[0m\n\u001b[1;32m    130\u001b[0m         \u001b[0mvalue\u001b[0m \u001b[0;34m==\u001b[0m \u001b[0mmath\u001b[0m\u001b[0;34m.\u001b[0m\u001b[0minf\u001b[0m\u001b[0;34m\u001b[0m\u001b[0;34m\u001b[0m\u001b[0m\n\u001b[1;32m    131\u001b[0m         \u001b[0;32mif\u001b[0m \u001b[0misinstance\u001b[0m\u001b[0;34m(\u001b[0m\u001b[0mvalue\u001b[0m\u001b[0;34m,\u001b[0m \u001b[0mnumbers\u001b[0m\u001b[0;34m.\u001b[0m\u001b[0mNumber\u001b[0m\u001b[0;34m)\u001b[0m\u001b[0;34m\u001b[0m\u001b[0;34m\u001b[0m\u001b[0m\n\u001b[0;32m--> 132\u001b[0;31m         \u001b[0;32melse\u001b[0m \u001b[0;34m(\u001b[0m\u001b[0mvalue\u001b[0m \u001b[0;34m==\u001b[0m \u001b[0mmath\u001b[0m\u001b[0;34m.\u001b[0m\u001b[0minf\u001b[0m\u001b[0;34m)\u001b[0m\u001b[0;34m.\u001b[0m\u001b[0many\u001b[0m\u001b[0;34m(\u001b[0m\u001b[0;34m)\u001b[0m\u001b[0;34m\u001b[0m\u001b[0;34m\u001b[0m\u001b[0m\n\u001b[0m\u001b[1;32m    133\u001b[0m     ):\n\u001b[1;32m    134\u001b[0m         warnings.warn_explicit(\n",
      "\u001b[0;31mRuntimeError\u001b[0m: value cannot be converted to type int64_t without overflow: inf"
     ]
    }
   ],
   "source": [
    "agent_dist = agent() # TODO FIXME"
   ]
  },
  {
   "cell_type": "markdown",
   "metadata": {},
   "source": [
    "## Exercises 2 a)\n",
    "1. Check to make sure ```utility()``` returns the correct value for $a_3$.\n",
    "2. Explore what happens when you change the actor's optimality.\n",
    "3. Explore what happens when you change the utilities.\n",
    "\n",
    "---"
   ]
  },
  {
   "cell_type": "markdown",
   "metadata": {},
   "source": [
    "### A rational speech actor\n",
    "\n",
    "In language understanding, the **utility of an utterance** is how well it communicates the state of the world $s$ to a listener. So, the speaker $S_1$ chooses utterances $u$ to communicate the state $s$ to the hypothesized literal listener $L_0$. Another way to think about this: $S_1$ wants to **minimize the effort $L_0$ would need** to arrive at $s$ from $u$, all **while being efficient at communicating**. $S_1$ thus seeks to minimize the surprisal of $s$ given $u$ for the literal listener $L_0$, while bearing in mind the **utterance cost, $C(u)$**. (This trade-off between efficacy and efficiency is not trivial: speakers could always use minimal ambiguity, but unambiguous utterances tend toward the unwieldy, and, very often, unnecessary. We will see this tension play out later in the book.)"
   ]
  },
  {
   "cell_type": "markdown",
   "metadata": {},
   "source": [
    "Speakers act in accordance with the speaker’s utility function $U_{S_1}$: utterances are more useful at communicating about some state as surprisal and utterance cost decrease. (See the Appendix Chapter 2 for more on speaker utilities.)"
   ]
  },
  {
   "cell_type": "markdown",
   "metadata": {},
   "source": [
    "$$U_{S_1}(u;s) = \\log L_0(s|u) - C(u)$$"
   ]
  },
  {
   "cell_type": "markdown",
   "metadata": {},
   "source": [
    "## Exercise 2 b)\n",
    "1. Go to the literal listener code box above _Ex. 1_ and find $\\log L_0(s|u=``blue``)$ for each reference object $s$.\n",
    "\n",
    "---"
   ]
  },
  {
   "cell_type": "markdown",
   "metadata": {},
   "source": [
    "With this utility function in mind, $S_1$ compuutes the probability of an utterance $u$ given some state $s$ in proportion to the speaker's utility function $U_{S_1}$. The term $\\alpha > 0$ controls the speaker's optimality, i.e. the speaker's **rationality** in choosing utterances. We define\n",
    "\n",
    "$$P_{S_1}(u|s)\\propto\\exp(\\alpha\\cdot U_{S_1}(u;s)),$$\n",
    "which expands to\n",
    "\n",
    "$$P_{S_1}(u|s)\\propto\\exp(\\alpha(\\log L_0(s|u)-C(u)$$\n",
    "\n",
    "The following code implements this moodel of the speaker:"
   ]
  },
  {
   "cell_type": "code",
   "execution_count": null,
   "metadata": {},
   "outputs": [],
   "source": [
    "# your code here\n",
    "\n",
    "\n",
    "# pragmatic speaker\n",
    "@Marginal\n",
    "def speaker(obj):\n",
    "    utterance = utterance_prior()\n",
    "    pyro.factor(\"speaker\", s1_alpha * literal_listener(utterance).log_prob(obj) - cost(utterance))\n",
    "    return utterance"
   ]
  },
  {
   "cell_type": "code",
   "execution_count": null,
   "metadata": {},
   "outputs": [],
   "source": [
    "idx = ...\n",
    "speaker(objects[idx])"
   ]
  },
  {
   "cell_type": "markdown",
   "metadata": {},
   "source": [
    "## Exercise 2 c)\n",
    "1. Visualise the speaker`s behavior for a blue square. You will have to define all of the variables referenced by ```speaker``` appropriately. You could make reasonable choices for $\\alpha$ and $C(\\cdot)$, or experiment. \n",
    "\n",
    "---"
   ]
  },
  {
   "cell_type": "markdown",
   "metadata": {},
   "source": [
    "## 3. Pragmatic Listener $L_1$\n",
    "\n",
    "\n",
    "The pragmatic listener $L_1$\n",
    "computes the probability of a state $s$ given some utterance $u$. By reasoning about the speaker $S_1$, this probability is proportional to the probability that $S_1$ would choose to utter $u$ to communicate about the state $s$, together with the prior probability of $s$ itself. In other words, to interpret an utterance, the pragmatic listener **considers the process that generated the utterance** in the first place.\n",
    "\n",
    "$$P_{L_1}(s|u)\\propto P_{S_1}(u|s)\\cdot P(s)$$"
   ]
  },
  {
   "cell_type": "code",
   "execution_count": 64,
   "metadata": {},
   "outputs": [],
   "source": [
    "@Marginal\n",
    "def pragmatic_listener(utterance):\n",
    "    # your code here\n",
    "\n",
    "    obj = pyro.sample(\"l1_simulation_of_speaker\", speaker_dist, obs=utterance)\n",
    "    return obj"
   ]
  },
  {
   "cell_type": "markdown",
   "metadata": {},
   "source": [
    "## Exercise 3\n",
    "1. Implement the ```pragmatic_listener```.\n",
    "\n",
    "---"
   ]
  },
  {
   "cell_type": "markdown",
   "metadata": {},
   "source": [
    "Awesome, that´s it. Weve reached the top of the vanilla RSA inference hierarchy. Let´s quickly throw it all together again for some more exercises.\n",
    "\n",
    "## 4. Putting it all together"
   ]
  },
  {
   "cell_type": "code",
   "execution_count": null,
   "metadata": {},
   "outputs": [],
   "source": [
    "# TODO copy everything from above once s1 works..."
   ]
  },
  {
   "cell_type": "markdown",
   "metadata": {},
   "source": [
    "## Exercise 3: \n",
    "1. Explore what happens if you make the speaker _more_ optimal.\n",
    "2. Add another object to the scenario.\n",
    "3. Add a new multi-word utterance.\n",
    "4. Check the behavior of the other possible utterances.\n",
    "5. Is there any way to get ``blue`` to refer to something green? Why or why not?\n",
    "6. Think about implicit assumptions in this model regarding what speaker and listener know about one another. How would you address this, i.e. think of a speaker and listener that do not have access to each other. What problems would you expect in this case?\n",
    "\n",
    "Happy coding :)"
   ]
  }
 ],
 "metadata": {
  "kernelspec": {
   "display_name": "q",
   "language": "python",
   "name": "q"
  },
  "language_info": {
   "codemirror_mode": {
    "name": "ipython",
    "version": 3
   },
   "file_extension": ".py",
   "mimetype": "text/x-python",
   "name": "python",
   "nbconvert_exporter": "python",
   "pygments_lexer": "ipython3",
   "version": "3.8.10"
  }
 },
 "nbformat": 4,
 "nbformat_minor": 4
}
